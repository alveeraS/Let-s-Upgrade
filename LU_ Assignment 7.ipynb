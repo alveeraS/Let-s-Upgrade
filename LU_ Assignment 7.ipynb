{
 "cells": [
  {
   "cell_type": "markdown",
   "metadata": {},
   "source": [
    "### Q1. Use the dictionary,     Port1 = {21 : \"FTP\" , 22 :\"SSH\" , 23 : \"Telnet\" , 80 : \"HTTP\" },and make a new dictionary in which keys become values and values become keys, as shown:                                                                                  Port2 = {“FTP\": 21, \"SSH\": 22, “Telnet\": 23, \"HTTP\": 80}"
   ]
  },
  {
   "cell_type": "code",
   "execution_count": 16,
   "metadata": {},
   "outputs": [
    {
     "name": "stdout",
     "output_type": "stream",
     "text": [
      "The expected result: {'FTP': 21, 'SSH': 22, 'Telnet': 23, 'HTTP': 80}\n"
     ]
    }
   ],
   "source": [
    "Port1 = {21 : \"FTP\" , 22 :\"SSH\" , 23 : \"Telnet\" , 80 : \"HTTP\" }\n",
    "Port2 = {value:key for key,value in Port1.items()}\n",
    "print(\"The expected result:\",Port2)"
   ]
  },
  {
   "cell_type": "markdown",
   "metadata": {},
   "source": [
    "### Q2. Take a list of tuple as shown. List1 =[(1,2), (3,4), (5,6),(4,5)]. Make a new list which contains sum of number of tuples."
   ]
  },
  {
   "cell_type": "code",
   "execution_count": 32,
   "metadata": {},
   "outputs": [
    {
     "name": "stdout",
     "output_type": "stream",
     "text": [
      "[3, 7, 11, 9]\n"
     ]
    }
   ],
   "source": [
    "List1 =[(1,2), (3,4), (5,6),(4,5)]\n",
    "Output =[ sum(s) for s in List1 ]\n",
    "print(Output)"
   ]
  },
  {
   "cell_type": "markdown",
   "metadata": {},
   "source": [
    "### Q3.Take a list as List2 = [(1,2,3), [1,2], ['a','hit','less']].  The List contains tuple and lists. Make the elements of inner lists and tuples to outer list\n"
   ]
  },
  {
   "cell_type": "code",
   "execution_count": 65,
   "metadata": {},
   "outputs": [
    {
     "name": "stdout",
     "output_type": "stream",
     "text": [
      "[1, 2, 3, 1, 2, 'a', 'hit', 'less']\n"
     ]
    }
   ],
   "source": [
    "List2 = [(1,2,3),[1,2],['a','hit','less']]\n",
    "List3= []\n",
    "[List3.extend(i) for i in List2 ]\n",
    "print(List3)"
   ]
  },
  {
   "cell_type": "code",
   "execution_count": null,
   "metadata": {},
   "outputs": [],
   "source": []
  }
 ],
 "metadata": {
  "kernelspec": {
   "display_name": "Python 3",
   "language": "python",
   "name": "python3"
  },
  "language_info": {
   "codemirror_mode": {
    "name": "ipython",
    "version": 3
   },
   "file_extension": ".py",
   "mimetype": "text/x-python",
   "name": "python",
   "nbconvert_exporter": "python",
   "pygments_lexer": "ipython3",
   "version": "3.7.6"
  }
 },
 "nbformat": 4,
 "nbformat_minor": 4
}

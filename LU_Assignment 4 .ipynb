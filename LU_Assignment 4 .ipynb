{
 "cells": [
  {
   "attachments": {},
   "cell_type": "markdown",
   "metadata": {},
   "source": [
    "### Q.1 Find all occurrence of substring in the given string.Print the index values."
   ]
  },
  {
   "cell_type": "code",
   "execution_count": 52,
   "metadata": {},
   "outputs": [
    {
     "name": "stdout",
     "output_type": "stream",
     "text": [
      "If you look at what you have in life, you will always have more.\n",
      "            If you look at what you don't have in life, you will never have enough.\n",
      "\n",
      "Enter the substring: in\n",
      "\n",
      "the substring present at the index value ---> 29\n",
      "\n",
      "the substring present at the index value ---> 112\n"
     ]
    }
   ],
   "source": [
    "#string =\"what we think we become; we are python programmers.\"\n",
    "string = \"\"\"If you look at what you have in life, you will always have more.\n",
    "            If you look at what you don't have in life, you will never have enough.\\n\"\"\"\n",
    "print(string)\n",
    "substring  = input(\"Enter the substring: \")\n",
    "for i in range(len(string)) :\n",
    "        if string.startswith(substring,i):         # syntax: string.startswith(value,start,end)\n",
    "            print(\"\\nthe substring present at the index value --->\", i )\n",
    "            i+=1\n",
    "if string.count(substring)== 0:\n",
    "    print(\"The substring is not present in the given string.\")  "
   ]
  },
  {
   "cell_type": "markdown",
   "metadata": {},
   "source": [
    "### Q.2 Explain using 'islower()' and 'isupper()' with diffrent kind of strings."
   ]
  },
  {
   "cell_type": "markdown",
   "metadata": {},
   "source": [
    "- In Python, islower() and isupper() are built-in methods used for string handling.\n",
    "- The islower() method returns “True” if   ALL CHARACTERS   in the string are lowercase, Otherwise, It returns “False”.\n",
    "- The isupper() method returns “True” if   ALL CHARACTERS   in the string are uppercase, Otherwise, It returns “False”.\n",
    "- Digits and symbols return “True”."
   ]
  },
  {
   "cell_type": "code",
   "execution_count": 53,
   "metadata": {},
   "outputs": [
    {
     "data": {
      "text/plain": [
       "True"
      ]
     },
     "execution_count": 53,
     "metadata": {},
     "output_type": "execute_result"
    }
   ],
   "source": [
    "#islower()\n",
    "strg = \"what we think we become; we are programmers.\"\n",
    "strg.islower()"
   ]
  },
  {
   "cell_type": "code",
   "execution_count": 54,
   "metadata": {},
   "outputs": [
    {
     "data": {
      "text/plain": [
       "False"
      ]
     },
     "execution_count": 54,
     "metadata": {},
     "output_type": "execute_result"
    }
   ],
   "source": [
    "strg = \"What we Think wE Become; we aRe proGrammErS.\"\n",
    "strg.islower()"
   ]
  },
  {
   "cell_type": "code",
   "execution_count": 55,
   "metadata": {},
   "outputs": [
    {
     "data": {
      "text/plain": [
       "True"
      ]
     },
     "execution_count": 55,
     "metadata": {},
     "output_type": "execute_result"
    }
   ],
   "source": [
    "word = \"activate:@6758rshtwer//\"\n",
    "word.islower()"
   ]
  },
  {
   "cell_type": "code",
   "execution_count": 56,
   "metadata": {},
   "outputs": [
    {
     "data": {
      "text/plain": [
       "False"
      ]
     },
     "execution_count": 56,
     "metadata": {},
     "output_type": "execute_result"
    }
   ],
   "source": [
    "word = \"ActiVate:@6758rSHtwEr//\"\n",
    "word.islower()"
   ]
  },
  {
   "cell_type": "code",
   "execution_count": 57,
   "metadata": {},
   "outputs": [
    {
     "data": {
      "text/plain": [
       "True"
      ]
     },
     "execution_count": 57,
     "metadata": {},
     "output_type": "execute_result"
    }
   ],
   "source": [
    "#isupper()\n",
    "str = \"WHAT WE THINK WE BECOME.\"\n",
    "str.isupper()"
   ]
  },
  {
   "cell_type": "code",
   "execution_count": 58,
   "metadata": {},
   "outputs": [
    {
     "data": {
      "text/plain": [
       "False"
      ]
     },
     "execution_count": 58,
     "metadata": {},
     "output_type": "execute_result"
    }
   ],
   "source": [
    "str = \"What we Think wE Become.\"\n",
    "str.isupper()"
   ]
  },
  {
   "cell_type": "code",
   "execution_count": 59,
   "metadata": {},
   "outputs": [
    {
     "data": {
      "text/plain": [
       "True"
      ]
     },
     "execution_count": 59,
     "metadata": {},
     "output_type": "execute_result"
    }
   ],
   "source": [
    "word = \"ACTIVATE:@6758RSHTWER//\"\n",
    "word.isupper()"
   ]
  },
  {
   "cell_type": "code",
   "execution_count": 60,
   "metadata": {},
   "outputs": [
    {
     "data": {
      "text/plain": [
       "False"
      ]
     },
     "execution_count": 60,
     "metadata": {},
     "output_type": "execute_result"
    }
   ],
   "source": [
    "word = \"ActiVate:@6758rSHtwEr//\"\n",
    "word.isupper()"
   ]
  },
  {
   "cell_type": "code",
   "execution_count": 61,
   "metadata": {},
   "outputs": [
    {
     "name": "stdout",
     "output_type": "stream",
     "text": [
      "In original String : \n",
      "Uppercase - 25\n",
      "Lowercase - 78\n",
      "Spaces - 40\n",
      "After changing cases:\n",
      "\n",
      "iF yOU lOOK AT wHAT yOU hAVE IN lIFE yOU wILL aLWAYS hAVE mORE\n",
      "            iF yOU lOOK AT wHAT yOU dONT hAVE IN lIFE yOU wILL nEVER hAVE eNOUGH\n"
     ]
    }
   ],
   "source": [
    "String = \"\"\"If You Look at What You Have in Life, You Will Always Have More.\n",
    "            If You Look at What You Don't Have in Life, You Will Never Have Enough.\"\"\"\n",
    "Newstring ='' \n",
    "count1 = 0\n",
    "count2 = 0\n",
    "count3 = 0\n",
    "  \n",
    "for i in String:  \n",
    "    if (i.isupper()) == True: \n",
    "        count1+= 1\n",
    "        Newstring+=(i.lower())  \n",
    "    elif (i.islower()) == True: \n",
    "        count2+= 1\n",
    "        Newstring+=(i.upper()) \n",
    "    elif (i.isspace()) == True: # isspace() --> This function is used to check if the argument contains whitespace characters.\n",
    "        count3+= 1\n",
    "        Newstring+= i\n",
    "print(\"In original String : \") \n",
    "print(\"Uppercase -\", count1) \n",
    "print(\"Lowercase -\", count2) \n",
    "print(\"Spaces -\", count3) \n",
    "  \n",
    "print(\"After changing cases:\\n\") \n",
    "print(Newstring) "
   ]
  },
  {
   "cell_type": "code",
   "execution_count": null,
   "metadata": {},
   "outputs": [],
   "source": []
  }
 ],
 "metadata": {
  "kernelspec": {
   "display_name": "Python 3",
   "language": "python",
   "name": "python3"
  },
  "language_info": {
   "codemirror_mode": {
    "name": "ipython",
    "version": 3
   },
   "file_extension": ".py",
   "mimetype": "text/x-python",
   "name": "python",
   "nbconvert_exporter": "python",
   "pygments_lexer": "ipython3",
   "version": "3.7.6"
  }
 },
 "nbformat": 4,
 "nbformat_minor": 4
}

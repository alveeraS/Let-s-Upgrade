{
 "cells": [
  {
   "cell_type": "markdown",
   "metadata": {},
   "source": [
    "## Q.1 Find sum of n numbers with the help of while loop.\n"
   ]
  },
  {
   "cell_type": "code",
   "execution_count": 1,
   "metadata": {},
   "outputs": [
    {
     "name": "stdout",
     "output_type": "stream",
     "text": [
      "Enter any Number: 10\n",
      "The Sum of 10 Numbers : 55\n"
     ]
    }
   ],
   "source": [
    "number = int(input(\"Enter any Number: \"))\n",
    "total_sum = 0\n",
    "value = 1\n",
    "\n",
    "while (value <= number):\n",
    "    total_sum = total_sum + value\n",
    "    value = value + 1\n",
    "\n",
    "print(\"The Sum of\",number,\"Numbers :\", total_sum)"
   ]
  },
  {
   "cell_type": "markdown",
   "metadata": {},
   "source": [
    "## Q.2 Take an integer and find whether the number is prime or not."
   ]
  },
  {
   "cell_type": "code",
   "execution_count": 3,
   "metadata": {},
   "outputs": [
    {
     "name": "stdout",
     "output_type": "stream",
     "text": [
      "Enter any number: 31\n",
      "Prime number\n"
     ]
    }
   ],
   "source": [
    "num = int(input(\"Enter any number: \"))\n",
    "for i in range(2,num):                # range from 2 to num-1(second last number)\n",
    "    if num % i ==0:                   #checking the number divisible by two\n",
    "        print(\"Not prime number\")\n",
    "        break\n",
    "else:\n",
    "    print(\"Prime number\")"
   ]
  },
  {
   "cell_type": "code",
   "execution_count": null,
   "metadata": {},
   "outputs": [],
   "source": []
  }
 ],
 "metadata": {
  "kernelspec": {
   "display_name": "Python 3",
   "language": "python",
   "name": "python3"
  },
  "language_info": {
   "codemirror_mode": {
    "name": "ipython",
    "version": 3
   },
   "file_extension": ".py",
   "mimetype": "text/x-python",
   "name": "python",
   "nbconvert_exporter": "python",
   "pygments_lexer": "ipython3",
   "version": "3.7.6"
  }
 },
 "nbformat": 4,
 "nbformat_minor": 4
}

{
 "cells": [
  {
   "cell_type": "markdown",
   "metadata": {},
   "source": [
    "### Q1. Sort the given list in increasing order but all zeroes should be at right hand side."
   ]
  },
  {
   "cell_type": "code",
   "execution_count": 1,
   "metadata": {},
   "outputs": [
    {
     "name": "stdout",
     "output_type": "stream",
     "text": [
      "[1, 1, 1, 2, 2, 3, 4, 4, 10, 56, 56, 0, 0, 0, 0, 0]\n"
     ]
    }
   ],
   "source": [
    "list = [0,1,2,10,4,1,0,56,2,0,1,3,0,56,0,4]\n",
    "list.sort()\n",
    "new_list = []\n",
    "for i in range(len(list)):\n",
    "    if list[0]==0:                              # zero-th index value = zero\n",
    "        new_list.append(list.pop(0))            # append() adds the single element at the end of the list\n",
    "list.extend(new_list)                           # extend() adds the elements of the 2nd list,to end of the current list\n",
    "print(list)"
   ]
  },
  {
   "cell_type": "markdown",
   "metadata": {},
   "source": [
    "### Q2. list1=[10,20,40,60,70,80] ; list2=[5,15,25,35,45,60].Merge these two sorted lists & produce one sorted list . Don't use Sort Method"
   ]
  },
  {
   "cell_type": "code",
   "execution_count": 7,
   "metadata": {},
   "outputs": [
    {
     "name": "stdout",
     "output_type": "stream",
     "text": [
      "Merged List: [10, 20, 40, 60, 70, 80, 5, 15, 25, 35, 45, 60]\n",
      "Sorted List: [5, 10, 15, 20, 25, 35, 40, 45, 60, 60, 70, 80]\n"
     ]
    }
   ],
   "source": [
    "list1 = [10,20,40,60,70,80]\n",
    "list2 = [5,15,25,35,45,60]\n",
    "list_12 = list1 + list2\n",
    "print(\"Merged List:\",list_12)\n",
    "list3 = []\n",
    "for i in range(len(list_12)):     \n",
    "    list3.append(max(list_12))     \n",
    "    list_12.remove(max(list_12))   \n",
    "print(\"Sorted List:\",list3[::-1])\n"
   ]
  },
  {
   "cell_type": "code",
   "execution_count": null,
   "metadata": {},
   "outputs": [],
   "source": []
  }
 ],
 "metadata": {
  "kernelspec": {
   "display_name": "Python 3",
   "language": "python",
   "name": "python3"
  },
  "language_info": {
   "codemirror_mode": {
    "name": "ipython",
    "version": 3
   },
   "file_extension": ".py",
   "mimetype": "text/x-python",
   "name": "python",
   "nbconvert_exporter": "python",
   "pygments_lexer": "ipython3",
   "version": "3.7.6"
  }
 },
 "nbformat": 4,
 "nbformat_minor": 4
}
